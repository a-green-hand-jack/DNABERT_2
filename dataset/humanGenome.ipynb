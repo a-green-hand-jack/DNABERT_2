{
 "cells": [
  {
   "cell_type": "code",
   "execution_count": 2,
   "id": "101be568",
   "metadata": {},
   "outputs": [
    {
     "name": "stdout",
     "output_type": "stream",
     "text": [
      "Sequences have been saved to /common/zhangz2lab/zhanh/hierarchicalTransformer/genome_sequences.csv\n"
     ]
    }
   ],
   "source": [
    "from Bio import SeqIO\n",
    "import csv\n",
    "import gzip\n",
    "\n",
    "# Assuming BioPython is installed\n",
    "# Replace 'path_to_your_fasta_file.fa.gz' with the path to your actual gzipped Fasta file\n",
    "fasta_file = '/common/zhangz2lab/zhanh/hierarchicalTransformer/GRCh38.p14.genome.fa.gz'\n",
    "\n",
    "# Specify the output CSV file name\n",
    "csv_file = '/common/zhangz2lab/zhanh/hierarchicalTransformer/genome_sequences.csv'\n",
    "\n",
    "# Open the gzipped Fasta file for reading\n",
    "with gzip.open(fasta_file, \"rt\") as handle:\n",
    "    # Open the CSV file for writing\n",
    "    with open(csv_file, mode='w', newline='') as csvfile:\n",
    "        writer = csv.writer(csvfile)\n",
    "        # Write the header row to the CSV file\n",
    "        writer.writerow([\"ID\", \"Description\", \"Sequence\"])\n",
    "        \n",
    "        # Iterate over each sequence record in the Fasta file\n",
    "        for record in SeqIO.parse(handle, \"fasta\"):\n",
    "            # Write the sequence ID, description, and the sequence itself to the CSV file\n",
    "            writer.writerow([record.id, record.description, str(record.seq)])\n",
    "\n",
    "print(f\"Sequences have been saved to {csv_file}\")\n"
   ]
  },
  {
   "cell_type": "code",
   "execution_count": 3,
   "id": "55c05577",
   "metadata": {},
   "outputs": [
    {
     "name": "stdout",
     "output_type": "stream",
     "text": [
      "Saved the first 24 chromosomes to /common/zhangz2lab/zhanh/hierarchicalTransformer/24_chromosomes.csv\n"
     ]
    }
   ],
   "source": [
    "import pandas as pd\n",
    "\n",
    "# Load the CSV file\n",
    "csv_file_path = '/common/zhangz2lab/zhanh/hierarchicalTransformer/genome_sequences.csv'\n",
    "df = pd.read_csv(csv_file_path)\n",
    "\n",
    "# Extract the first 24 rows (assuming chr1 to chr22, chrX, and chrY are the first 24)\n",
    "chromosomes_df = df.iloc[:24]\n",
    "\n",
    "# Specify the new CSV file path to save the extracted rows\n",
    "new_csv_file_path = '/common/zhangz2lab/zhanh/hierarchicalTransformer/24_chromosomes.csv'\n",
    "\n",
    "# Save the extracted rows to a new CSV file\n",
    "chromosomes_df.to_csv(new_csv_file_path, index=False)\n",
    "\n",
    "print(f'Saved the first 24 chromosomes to {new_csv_file_path}')\n"
   ]
  }
 ],
 "metadata": {
  "kernelspec": {
   "display_name": "PyTorchGpu",
   "language": "python",
   "name": "python3"
  },
  "language_info": {
   "codemirror_mode": {
    "name": "ipython",
    "version": 3
   },
   "file_extension": ".py",
   "mimetype": "text/x-python",
   "name": "python",
   "nbconvert_exporter": "python",
   "pygments_lexer": "ipython3",
   "version": "3.11.4"
  }
 },
 "nbformat": 4,
 "nbformat_minor": 5
}
